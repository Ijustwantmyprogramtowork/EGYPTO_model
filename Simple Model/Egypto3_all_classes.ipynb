{
 "cells": [
  {
   "cell_type": "code",
   "execution_count": 1,
   "metadata": {},
   "outputs": [
    {
     "name": "stdout",
     "output_type": "stream",
     "text": [
      "\u001b[H\u001b[2J"
     ]
    }
   ],
   "source": [
    "clear all"
   ]
  },
  {
   "cell_type": "code",
   "execution_count": 2,
   "metadata": {},
   "outputs": [
    {
     "name": "stdout",
     "output_type": "stream",
     "text": [
      "Collecting polars\n",
      "  Using cached polars-1.3.0-cp38-abi3-manylinux_2_17_x86_64.manylinux2014_x86_64.whl.metadata (14 kB)\n",
      "Using cached polars-1.3.0-cp38-abi3-manylinux_2_17_x86_64.manylinux2014_x86_64.whl (31.2 MB)\n",
      "Installing collected packages: polars\n",
      "Successfully installed polars-1.3.0\n"
     ]
    }
   ],
   "source": [
    "!pip install polars"
   ]
  },
  {
   "cell_type": "code",
   "execution_count": 3,
   "metadata": {},
   "outputs": [
    {
     "name": "stdout",
     "output_type": "stream",
     "text": [
      "Collecting opencv-python\n",
      "  Using cached opencv_python-4.10.0.84-cp37-abi3-manylinux_2_17_x86_64.manylinux2014_x86_64.whl.metadata (20 kB)\n",
      "Requirement already satisfied: numpy>=1.21.2 in /opt/conda/lib/python3.10/site-packages (from opencv-python) (1.24.4)\n",
      "Using cached opencv_python-4.10.0.84-cp37-abi3-manylinux_2_17_x86_64.manylinux2014_x86_64.whl (62.5 MB)\n",
      "Installing collected packages: opencv-python\n",
      "Successfully installed opencv-python-4.10.0.84\n"
     ]
    }
   ],
   "source": [
    "!pip install opencv-python"
   ]
  },
  {
   "cell_type": "code",
   "execution_count": 4,
   "metadata": {},
   "outputs": [
    {
     "name": "stdout",
     "output_type": "stream",
     "text": [
      "Collecting pytorchtools\n",
      "  Using cached pytorchtools-0.0.2-py2.py3-none-any.whl.metadata (2.2 kB)\n",
      "Using cached pytorchtools-0.0.2-py2.py3-none-any.whl (3.1 kB)\n",
      "Installing collected packages: pytorchtools\n",
      "Successfully installed pytorchtools-0.0.2\n"
     ]
    }
   ],
   "source": [
    "!pip install pytorchtools"
   ]
  },
  {
   "cell_type": "code",
   "execution_count": 5,
   "metadata": {
    "id": "6DEZ0S131TIK"
   },
   "outputs": [],
   "source": [
    "import polars as pl\n",
    "import cv2\n",
    "import glob\n",
    "from torch.utils.data import DataLoader, Dataset\n",
    "from torch.utils.tensorboard import SummaryWriter\n",
    "import numpy as np\n",
    "import matplotlib.pyplot as plt\n",
    "from torchvision import transforms\n",
    "import torch\n",
    "from sklearn.model_selection import train_test_split\n",
    "import torch.nn as nn\n",
    "from torch.nn import Module\n",
    "from torchvision import models, io\n",
    "import torch.nn.functional as F\n",
    "from datetime import datetime\n",
    "import os\n",
    "from tqdm import tqdm\n",
    "import torch.optim as optim\n",
    "import torch.optim.lr_scheduler as lr_scheduler\n",
    "from torch.profiler import profile, record_function, ProfilerActivity"
   ]
  },
  {
   "cell_type": "code",
   "execution_count": 6,
   "metadata": {
    "colab": {
     "base_uri": "https://localhost:8080/",
     "height": 255
    },
    "id": "yS5RNX1a1ed-",
    "outputId": "05bfeaf0-d5df-43a2-a87b-b52af675c231"
   },
   "outputs": [
    {
     "data": {
      "text/html": [
       "<div><style>\n",
       ".dataframe > thead > tr,\n",
       ".dataframe > tbody > tr {\n",
       "  text-align: right;\n",
       "  white-space: pre-wrap;\n",
       "}\n",
       "</style>\n",
       "<small>shape: (5, 3)</small><table border=\"1\" class=\"dataframe\"><thead><tr><th>filenames</th><th>classes</th><th>bb</th></tr><tr><td>str</td><td>str</td><td>str</td></tr></thead><tbody><tr><td>&quot;drive/MyDrive/cropped_pictures…</td><td>&quot;&quot;</td><td>&quot;&quot;</td></tr><tr><td>&quot;drive/MyDrive/cropped_pictures…</td><td>&quot;2&quot;</td><td>&quot;72.0,37.0,236.23839330673218,1…</td></tr><tr><td>&quot;drive/MyDrive/cropped_pictures…</td><td>&quot;&quot;</td><td>&quot;&quot;</td></tr><tr><td>&quot;drive/MyDrive/cropped_pictures…</td><td>&quot;0&quot;</td><td>&quot;0.0,0.0,225.8830212788887,409.…</td></tr><tr><td>&quot;drive/MyDrive/cropped_pictures…</td><td>&quot;&quot;</td><td>&quot;&quot;</td></tr></tbody></table></div>"
      ],
      "text/plain": [
       "shape: (5, 3)\n",
       "┌─────────────────────────────────┬─────────┬─────────────────────────────────┐\n",
       "│ filenames                       ┆ classes ┆ bb                              │\n",
       "│ ---                             ┆ ---     ┆ ---                             │\n",
       "│ str                             ┆ str     ┆ str                             │\n",
       "╞═════════════════════════════════╪═════════╪═════════════════════════════════╡\n",
       "│ drive/MyDrive/cropped_pictures… ┆         ┆                                 │\n",
       "│ drive/MyDrive/cropped_pictures… ┆ 2       ┆ 72.0,37.0,236.23839330673218,1… │\n",
       "│ drive/MyDrive/cropped_pictures… ┆         ┆                                 │\n",
       "│ drive/MyDrive/cropped_pictures… ┆ 0       ┆ 0.0,0.0,225.8830212788887,409.… │\n",
       "│ drive/MyDrive/cropped_pictures… ┆         ┆                                 │\n",
       "└─────────────────────────────────┴─────────┴─────────────────────────────────┘"
      ]
     },
     "execution_count": 6,
     "metadata": {},
     "output_type": "execute_result"
    }
   ],
   "source": [
    "dfs=[pl.read_csv(filename) for filename in glob.glob('/home/jovyan/my_work/Egypto/dfs/dfs/df_*.csv')]\n",
    "df=pl.concat(dfs)\n",
    "df.head()"
   ]
  },
  {
   "cell_type": "code",
   "execution_count": 7,
   "metadata": {},
   "outputs": [
    {
     "data": {
      "text/html": [
       "<div><style>\n",
       ".dataframe > thead > tr,\n",
       ".dataframe > tbody > tr {\n",
       "  text-align: right;\n",
       "  white-space: pre-wrap;\n",
       "}\n",
       "</style>\n",
       "<small>shape: (5, 3)</small><table border=\"1\" class=\"dataframe\"><thead><tr><th>filenames</th><th>classes</th><th>bb</th></tr><tr><td>str</td><td>str</td><td>str</td></tr></thead><tbody><tr><td>&quot;425942001_300_300_243_543_empt…</td><td>&quot;&quot;</td><td>&quot;&quot;</td></tr><tr><td>&quot;425942001_300_300_243_543_cara…</td><td>&quot;2&quot;</td><td>&quot;72.0,37.0,236.23839330673218,1…</td></tr><tr><td>&quot;420886001_300_300_1028_1328_em…</td><td>&quot;&quot;</td><td>&quot;&quot;</td></tr><tr><td>&quot;420886001_300_300_1028_1328_ca…</td><td>&quot;0&quot;</td><td>&quot;0.0,0.0,225.8830212788887,409.…</td></tr><tr><td>&quot;423879001_300_300_814_1114_emp…</td><td>&quot;&quot;</td><td>&quot;&quot;</td></tr></tbody></table></div>"
      ],
      "text/plain": [
       "shape: (5, 3)\n",
       "┌─────────────────────────────────┬─────────┬─────────────────────────────────┐\n",
       "│ filenames                       ┆ classes ┆ bb                              │\n",
       "│ ---                             ┆ ---     ┆ ---                             │\n",
       "│ str                             ┆ str     ┆ str                             │\n",
       "╞═════════════════════════════════╪═════════╪═════════════════════════════════╡\n",
       "│ 425942001_300_300_243_543_empt… ┆         ┆                                 │\n",
       "│ 425942001_300_300_243_543_cara… ┆ 2       ┆ 72.0,37.0,236.23839330673218,1… │\n",
       "│ 420886001_300_300_1028_1328_em… ┆         ┆                                 │\n",
       "│ 420886001_300_300_1028_1328_ca… ┆ 0       ┆ 0.0,0.0,225.8830212788887,409.… │\n",
       "│ 423879001_300_300_814_1114_emp… ┆         ┆                                 │\n",
       "└─────────────────────────────────┴─────────┴─────────────────────────────────┘"
      ]
     },
     "execution_count": 7,
     "metadata": {},
     "output_type": "execute_result"
    }
   ],
   "source": [
    "df=df.with_columns(pl.col('filenames').str.split('/').list.last())\n",
    "df.head()"
   ]
  },
  {
   "cell_type": "code",
   "execution_count": 8,
   "metadata": {},
   "outputs": [],
   "source": [
    "all_images=os.listdir('/home/jovyan/my_work/Egypto/Images')\n",
    "existing_files_series = pl.Series(all_images)\n"
   ]
  },
  {
   "cell_type": "code",
   "execution_count": 9,
   "metadata": {},
   "outputs": [],
   "source": [
    "df=df.with_columns(pl.col('filenames').is_in(all_images).alias('new_image')).filter(pl.col('new_image'))"
   ]
  },
  {
   "cell_type": "code",
   "execution_count": 10,
   "metadata": {},
   "outputs": [
    {
     "data": {
      "text/html": [
       "<div><style>\n",
       ".dataframe > thead > tr,\n",
       ".dataframe > tbody > tr {\n",
       "  text-align: right;\n",
       "  white-space: pre-wrap;\n",
       "}\n",
       "</style>\n",
       "<small>shape: (5, 3)</small><table border=\"1\" class=\"dataframe\"><thead><tr><th>filenames</th><th>classes</th><th>bb</th></tr><tr><td>str</td><td>str</td><td>str</td></tr></thead><tbody><tr><td>&quot;425942001_300_300_243_543_empt…</td><td>&quot;&quot;</td><td>&quot;&quot;</td></tr><tr><td>&quot;425942001_300_300_243_543_cara…</td><td>&quot;2&quot;</td><td>&quot;72.0,37.0,236.23839330673218,1…</td></tr><tr><td>&quot;420886001_300_300_1028_1328_em…</td><td>&quot;&quot;</td><td>&quot;&quot;</td></tr><tr><td>&quot;420886001_300_300_1028_1328_ca…</td><td>&quot;0&quot;</td><td>&quot;0.0,0.0,225.8830212788887,409.…</td></tr><tr><td>&quot;423879001_300_300_814_1114_emp…</td><td>&quot;&quot;</td><td>&quot;&quot;</td></tr></tbody></table></div>"
      ],
      "text/plain": [
       "shape: (5, 3)\n",
       "┌─────────────────────────────────┬─────────┬─────────────────────────────────┐\n",
       "│ filenames                       ┆ classes ┆ bb                              │\n",
       "│ ---                             ┆ ---     ┆ ---                             │\n",
       "│ str                             ┆ str     ┆ str                             │\n",
       "╞═════════════════════════════════╪═════════╪═════════════════════════════════╡\n",
       "│ 425942001_300_300_243_543_empt… ┆         ┆                                 │\n",
       "│ 425942001_300_300_243_543_cara… ┆ 2       ┆ 72.0,37.0,236.23839330673218,1… │\n",
       "│ 420886001_300_300_1028_1328_em… ┆         ┆                                 │\n",
       "│ 420886001_300_300_1028_1328_ca… ┆ 0       ┆ 0.0,0.0,225.8830212788887,409.… │\n",
       "│ 423879001_300_300_814_1114_emp… ┆         ┆                                 │\n",
       "└─────────────────────────────────┴─────────┴─────────────────────────────────┘"
      ]
     },
     "execution_count": 10,
     "metadata": {},
     "output_type": "execute_result"
    }
   ],
   "source": [
    "df=df.drop('new_image')\n",
    "df.head()"
   ]
  },
  {
   "cell_type": "markdown",
   "metadata": {
    "id": "OY9KTH8OqnM1"
   },
   "source": [
    "We're checkin for duplicates"
   ]
  },
  {
   "cell_type": "code",
   "execution_count": 69,
   "metadata": {
    "colab": {
     "base_uri": "https://localhost:8080/",
     "height": 35
    },
    "id": "jE6USzWVoo2G",
    "outputId": "5605acd8-32f0-4abd-ebff-cb8257783b49"
   },
   "outputs": [
    {
     "data": {
      "text/plain": [
       "'432546001_1200_300_1001_1301_caractere.png'"
      ]
     },
     "execution_count": 69,
     "metadata": {},
     "output_type": "execute_result"
    }
   ],
   "source": [
    "df['filenames'][1]"
   ]
  },
  {
   "cell_type": "code",
   "execution_count": null,
   "metadata": {
    "colab": {
     "base_uri": "https://localhost:8080/"
    },
    "id": "34IrzIX8nx82",
    "outputId": "2ef1b64e-2dbd-4b37-d678-636fe890059d"
   },
   "outputs": [
    {
     "data": {
      "text/plain": [
       "(103, 3)"
      ]
     },
     "execution_count": 4,
     "metadata": {},
     "output_type": "execute_result"
    }
   ],
   "source": [
    "df['filenames'].value_counts(\n",
    "\n",
    ").filter(pl.col('count')>1\n",
    "         ).with_columns(pl.col('filenames').str.split('_').list.last().str.split('.').list.first().alias('caractere_or_empty')\n",
    "         ).filter(pl.col('caractere_or_empty')=='caractere').shape"
   ]
  },
  {
   "cell_type": "markdown",
   "metadata": {
    "id": "XeCVGIItqt-m"
   },
   "source": [
    "droping the duplicates and keeping the last one ( since the photos were probably overwritten because they were assigned the same same )"
   ]
  },
  {
   "cell_type": "code",
   "execution_count": 11,
   "metadata": {
    "id": "03w62VfurEsv"
   },
   "outputs": [],
   "source": [
    "df=df.unique(subset='filenames', keep='last')"
   ]
  },
  {
   "cell_type": "markdown",
   "metadata": {
    "id": "u0_2mjxOxoOM"
   },
   "source": [
    "## Customization du dataset [link here](https://pytorch.org/tutorials/beginner/data_loading_tutorial.html)"
   ]
  },
  {
   "cell_type": "code",
   "execution_count": 17,
   "metadata": {
    "id": "7TgJ0yFplFmP"
   },
   "outputs": [],
   "source": [
    "class CustomDataset(Dataset):\n",
    "  \"\"\"\n",
    "  This Class creates tensor for each value in a dataframe.\n",
    "  \"\"\"\n",
    "  def __init__(self, df, transform:bool):\n",
    "    \"\"\"\n",
    "      df: dataframe with the annotations\n",
    "    root_dir: directory with all the images\n",
    "    transform: Optionnal transform to apply\n",
    "    \"\"\"\n",
    "\n",
    "    self.df=df\n",
    "    self.transform=transform\n",
    "\n",
    "  def __len__(self):\n",
    "    return len(self.df)\n",
    "\n",
    "  def __getitem__(self,idx):\n",
    "    # On rajoute le transform, voir ce que ça fait sur les résultats\n",
    "    img_name=self.df['filenames'][idx]\n",
    "    image_file=os.path.join('/home/jovyan/my_work/Egypto/Images',img_name)\n",
    "    image=cv2.imread(image_file)\n",
    "    image=1.6*image - 50\n",
    "    image=image/255\n",
    "\n",
    "    if image is None:\n",
    "      raise FileNotFoundError(f\"Image {img_name} not found\")\n",
    "    if self.transform:\n",
    "      image=self.transform(image)\n",
    "      #On verrifie que 'bb' et 'classes' sont non vides sinon ca risque de buguer\n",
    "    if image is not None:\n",
    "      image = torch.tensor(image, dtype=torch.float32).permute(2,0,1)\n",
    "    bb_str=self.df['bb'][idx]\n",
    "    if bb_str:\n",
    "      bb=list(map(float,self.df['bb'][idx].split(',')))\n",
    "      target=torch.tensor(bb,dtype=torch.float32)\n",
    "    else:\n",
    "      target=torch.tensor([0,0,300,300], dtype=torch.float32)\n",
    "    classe_str=self.df['classes'][idx]\n",
    "    label_map = {'0': 0, '1': 1, '2': 2, '':3}\n",
    "    label = torch.tensor(label_map.get(classe_str, -1), dtype=torch.float32)\n",
    "#     else:\n",
    "#       label = torch.tensor(3, dtype=torch.float32)\n",
    "\n",
    "    return image, target, label\n"
   ]
  },
  {
   "cell_type": "code",
   "execution_count": 18,
   "metadata": {
    "id": "PhlVnHXWOJNA"
   },
   "outputs": [],
   "source": [
    "def custom_collate_fn(batch):\n",
    "  \"\"\"\n",
    "  This function collates the tensor for them to have the same size\n",
    "\n",
    "  batch: batch in the dataloader\n",
    "  \"\"\"\n",
    "  images, targets, labels = zip(*batch)\n",
    "\n",
    "    # Convert images from numpy arrays to torch tensors if needed\n",
    "  images = [torch.tensor(image) if isinstance(image, np.ndarray) else image for image in images]\n",
    "  images = torch.stack(images, 0)\n",
    "  bbox= [torch.tensor(t) if isinstance(t, np.ndarray) else t for t in targets]\n",
    "  bbox_stacked=torch.stack(bbox,0)\n",
    "  cls= [torch.tensor(c) if isinstance(c, np.ndarray) else c for c in labels]\n",
    "  cls_stacked=torch.stack(cls,0)\n",
    "\n",
    "  return images, bbox_stacked, labels"
   ]
  },
  {
   "cell_type": "code",
   "execution_count": 19,
   "metadata": {
    "id": "_dblgV7Jyoak"
   },
   "outputs": [],
   "source": [
    "train, test= train_test_split(df, test_size=0.3, random_state=42, shuffle=True, stratify=df['classes'])"
   ]
  },
  {
   "cell_type": "code",
   "execution_count": 20,
   "metadata": {
    "id": "5xu93CVSZ_Q-"
   },
   "outputs": [],
   "source": [
    "dataset_train=CustomDataset(train, transform=False )\n",
    "dataset_test=CustomDataset(test, transform=False)\n",
    "dataloader_train=DataLoader(dataset_train, batch_size=16, shuffle=True, collate_fn=custom_collate_fn, num_workers=4)\n",
    "dataloader_test=DataLoader(dataset_test, batch_size=32, shuffle=True, collate_fn=custom_collate_fn, num_workers=4)"
   ]
  },
  {
   "cell_type": "code",
   "execution_count": 21,
   "metadata": {
    "colab": {
     "base_uri": "https://localhost:8080/"
    },
    "id": "ECePBnfhp-9h",
    "outputId": "a869165e-c21b-43f4-affd-12372b9a6197"
   },
   "outputs": [],
   "source": [
    "class VGG16(nn.Module):\n",
    "  def __init__(self, num_classes=4, num_bbox_coords=4):\n",
    "    super(VGG16, self).__init__()\n",
    "    self.layer1= nn.Sequential(nn.Conv2d(3,64, (3,3)),\n",
    "                               nn.BatchNorm2d(64),\n",
    "                               nn.ReLU())\n",
    "    self.layer2=nn.Sequential(nn.Conv2d(64,64, (3,3)),\n",
    "                              nn.BatchNorm2d(64),\n",
    "                              nn.ReLU(),\n",
    "                              nn.MaxPool2d((2,2), stride=2))\n",
    "    self.layer3= nn.Sequential(nn.Conv2d(64,128, (3,3)),\n",
    "                               nn.BatchNorm2d(128),\n",
    "                               nn.ReLU())\n",
    "    self.layer4= nn.Sequential(nn.Conv2d(128,128,(3,3)),\n",
    "                               nn.BatchNorm2d(128),\n",
    "                               nn.ReLU(),\n",
    "                               nn.MaxPool2d((2,2), stride=2))\n",
    "    self.layer5= nn.Sequential(nn.Conv2d(128,256,(3,3)),\n",
    "                               nn.BatchNorm2d(256),\n",
    "                               nn.ReLU())\n",
    "    self.layer6=nn.Sequential(nn.Conv2d(256,256, (3,3)),\n",
    "                              nn.BatchNorm2d(256),\n",
    "                              nn.ReLU())\n",
    "    self.layer7=nn.Sequential(nn.Conv2d(256,256, (3,3)),\n",
    "                              nn.BatchNorm2d(256),\n",
    "                              nn.ReLU(),\n",
    "                              nn.MaxPool2d((2,2), stride=2, ceil_mode=True))\n",
    "    self.layer8=nn.Sequential(nn.Conv2d(256,512, (3,3)),\n",
    "                              nn.BatchNorm2d(512),\n",
    "                              nn.ReLU())\n",
    "    self.layer9=nn.Sequential(nn.Conv2d(512,512, (3,3)),\n",
    "                              nn.BatchNorm2d(512),\n",
    "                              nn.ReLU(),\n",
    "                             nn.MaxPool2d((2,2),stride=2))\n",
    "    self.layer10=nn.Sequential(nn.Conv2d(512,512, (3,3)),\n",
    "                              nn.BatchNorm2d(512),\n",
    "                              nn.ReLU(),\n",
    "                               nn.MaxPool2d((2,2), stride=2))\n",
    "    self.global_avg_pool = nn.AdaptiveAvgPool2d((1, 1))\n",
    "    self.fc=nn.Sequential(nn.Dropout(0.6),\n",
    "                          nn.Linear(512, 4096),\n",
    "                          nn.ReLU())\n",
    "    self.fc1=nn.Sequential(nn.Dropout(0.6),\n",
    "                           nn.Linear(4096, 4096),\n",
    "                           nn.ReLU())\n",
    "    self.fc_bbox=nn.Linear(4096,num_bbox_coords)\n",
    "    self.fc_class=nn.Linear(4096, num_classes)\n",
    "\n",
    "\n",
    "\n",
    "  def forward(self,x):\n",
    "    out=self.layer1(x)\n",
    "    out=self.layer2(out)\n",
    "    out=self.layer3(out)\n",
    "    out=self.layer4(out)\n",
    "    out=self.layer5(out)\n",
    "    out=self.layer6(out)\n",
    "    out=self.layer7(out)\n",
    "    out=self.layer8(out)\n",
    "    out=self.layer9(out)\n",
    "    out=self.layer10(out)\n",
    "    out=self.global_avg_pool(out)\n",
    "    out=out.view(out.size(0), -1)\n",
    "    out=self.fc(out)\n",
    "    out=self.fc1(out)\n",
    "    out_bbox=self.fc_bbox(out)\n",
    "    out_class=self.fc_class(out)\n",
    "    return out_bbox, out_class\n",
    "\n",
    "labels=['class0', 'class1', 'class2', 'empty']\n",
    "module=VGG16(num_classes=len(labels)).to(\"cuda\")\n",
    "#summary(module, input_size=(3,300,300))"
   ]
  },
  {
   "cell_type": "code",
   "execution_count": 22,
   "metadata": {},
   "outputs": [],
   "source": [
    "pretrained_dict=torch.load('module.pt')\n",
    "model_dict=module.state_dict()"
   ]
  },
  {
   "cell_type": "code",
   "execution_count": 28,
   "metadata": {},
   "outputs": [],
   "source": [
    "pretrained_dict={k: v for k,v in pretrained_dict.items() if k in model_dict and 'fc_class' not in k}"
   ]
  },
  {
   "cell_type": "code",
   "execution_count": 29,
   "metadata": {},
   "outputs": [
    {
     "data": {
      "text/plain": [
       "<All keys matched successfully>"
      ]
     },
     "execution_count": 29,
     "metadata": {},
     "output_type": "execute_result"
    }
   ],
   "source": [
    "model_dict.update(pretrained_dict)\n",
    "module.load_state_dict(model_dict)"
   ]
  },
  {
   "cell_type": "code",
   "execution_count": 32,
   "metadata": {},
   "outputs": [],
   "source": [
    "class EarlyStopping:\n",
    "    def __init__(self,patience=3, verbose=False, delta=0):\n",
    "        self.patience=patience\n",
    "        self.verbose=verbose\n",
    "        self.counter=0\n",
    "        self.best_score=None\n",
    "        self.early_stop=False\n",
    "        self.val_loss_min=np.Inf\n",
    "        self.delta=delta\n",
    "    \n",
    "    def __call__(self,val_loss,model):\n",
    "        score=-val_loss\n",
    "        if self.best_score is None:\n",
    "            self.best_score=score\n",
    "        elif score<self.best_score + self.delta:\n",
    "            self.counter+=1\n",
    "            if self.verbose:\n",
    "                print(f'EarlyStopping counter: {self.counter} out of {self.patience}')\n",
    "            if self.counter>=self.patience:\n",
    "                self.early_stop=True\n",
    "        else:\n",
    "            self.best_score=score\n",
    "            self.counter=0\n",
    "            "
   ]
  },
  {
   "cell_type": "markdown",
   "metadata": {
    "id": "kCaN0z1tmNCY"
   },
   "source": [
    "# On prend la même loss et le même optimizer qu'ici"
   ]
  },
  {
   "cell_type": "code",
   "execution_count": 33,
   "metadata": {
    "id": "Yr8H3eyh7pFX"
   },
   "outputs": [],
   "source": [
    "loss_fn=torch.nn.CrossEntropyLoss()"
   ]
  },
  {
   "cell_type": "code",
   "execution_count": 34,
   "metadata": {
    "id": "koPxNa-ciuC4"
   },
   "outputs": [],
   "source": [
    "\n",
    "optimizer=torch.optim.Adam(module.parameters(),lr=0.001, weight_decay=1e-4)"
   ]
  },
  {
   "cell_type": "code",
   "execution_count": 35,
   "metadata": {
    "id": "mzbsCjXnrw5B"
   },
   "outputs": [],
   "source": [
    "import torch.nn.functional as F\n",
    "\n",
    "def custom_loss_fn(bbox_outputs, class_outputs, bbox_targets, class_number):\n",
    "    bbox_targets = torch.stack([b for b in bbox_targets])\n",
    "    if class_outputs.dtype != torch.float:\n",
    "      class_outputs = class_outputs.float()\n",
    "    bbox_loss = F.smooth_l1_loss(bbox_outputs, bbox_targets, reduction='mean')\n",
    "    class_loss = loss_fn(class_outputs, class_number)\n",
    "    total_loss = bbox_loss + class_loss\n",
    "    return total_loss, bbox_loss, class_loss\n"
   ]
  },
  {
   "cell_type": "code",
   "execution_count": null,
   "metadata": {},
   "outputs": [],
   "source": []
  },
  {
   "cell_type": "code",
   "execution_count": 36,
   "metadata": {
    "id": "LcwjB-gmkBIy"
   },
   "outputs": [],
   "source": [
    "def train_one_epoch(epoch_index, tb_writer,total_correct, total_samples):\n",
    "    temperature=2\n",
    "    running_loss = 0\n",
    "    last_loss = 0\n",
    "\n",
    "    for i, (image, bbox, classe) in enumerate(dataloader_train):\n",
    "        inputs=image.to(\"cuda\")\n",
    "        #Corriger liste de tensors\n",
    "        bbox_targets = [b.to(\"cuda\") for b in bbox]\n",
    "        #Classe_target doit être un torch.long pour crossentropy\n",
    "        classe=np.asarray(classe)\n",
    "        class_targets=torch.tensor(classe,dtype=torch.int64).to(\"cuda\")\n",
    "        \n",
    "        bbox_outputs, class_outputs = module(inputs)\n",
    "        class_outputs=temperature*class_outputs\n",
    "        _,predictions=torch.max(class_outputs,1)\n",
    "        total_correct+=(predictions==class_targets).sum().item()\n",
    "        total_samples+=class_targets.size(0)\n",
    "        loss, bbox_loss, class_loss = custom_loss_fn(bbox_outputs, class_outputs, bbox_targets, class_targets)\n",
    "        optimizer.zero_grad()\n",
    "        loss.backward()\n",
    "        optimizer.step()\n",
    "\n",
    "        running_loss += loss.item()\n",
    "        if i % 1000 == 999:\n",
    "            last_loss = running_loss / 1000\n",
    "            print('batch {} loss: {}'.format(i+1, last_loss))\n",
    "            tb_x = epoch_index * len(dataloader_train) + i + 1\n",
    "            running_loss = 0\n",
    "            accuracy=100*total_correct/total_samples\n",
    "            distance=bbox_targets[-1]-bbox_outputs[-1]\n",
    "            print('distance:',distance)\n",
    "            print('batch{} acc: {}'.format(i+1, accuracy))\n",
    "            print(bbox_loss, class_loss)\n",
    "    return last_loss\n"
   ]
  },
  {
   "cell_type": "code",
   "execution_count": 37,
   "metadata": {
    "colab": {
     "base_uri": "https://localhost:8080/"
    },
    "id": "vGug99PWtoB-",
    "outputId": "e5630953-7e03-42b3-e989-51e9eeb5c5aa"
   },
   "outputs": [
    {
     "name": "stderr",
     "output_type": "stream",
     "text": [
      "2024-08-01 09:41:13.418517: I tensorflow/core/platform/cpu_feature_guard.cc:193] This TensorFlow binary is optimized with oneAPI Deep Neural Network Library (oneDNN) to use the following CPU instructions in performance-critical operations:  AVX2 AVX512F AVX512_VNNI FMA\n",
      "To enable them in other operations, rebuild TensorFlow with the appropriate compiler flags.\n",
      "/opt/conda/lib/python3.10/site-packages/h5py/__init__.py:36: UserWarning: h5py is running against HDF5 1.14.3 when it was built against 1.14.2, this may cause problems\n",
      "  _warn((\"h5py is running against HDF5 {0} when it was built against {1}, \"\n",
      "  0%|          | 0/5 [00:00<?, ?it/s]"
     ]
    },
    {
     "name": "stdout",
     "output_type": "stream",
     "text": [
      "EPOCH1\n",
      "batch 1000 loss: 9.581605561733246\n",
      "distance: tensor([1.2437, 7.4202, 7.3311, 3.8986], device='cuda:0',\n",
      "       grad_fn=<SubBackward0>)\n",
      "batch1000 acc: 95.8375\n",
      "tensor(6.6805, device='cuda:0', grad_fn=<SmoothL1LossBackward0>) tensor(0.0006, device='cuda:0', grad_fn=<NllLossBackward0>)\n",
      "batch 2000 loss: 7.091786715984345\n",
      "distance: tensor([-9.4260, -0.8979,  2.7107, 13.8170], device='cuda:0',\n",
      "       grad_fn=<SubBackward0>)\n",
      "batch2000 acc: 96.875\n",
      "tensor(12.5188, device='cuda:0', grad_fn=<SmoothL1LossBackward0>) tensor(1.2527, device='cuda:0', grad_fn=<NllLossBackward0>)\n"
     ]
    },
    {
     "name": "stderr",
     "output_type": "stream",
     "text": [
      "\r\n",
      " 20%|██        | 1/5 [07:47<31:08, 467.12s/it]"
     ]
    },
    {
     "name": "stdout",
     "output_type": "stream",
     "text": [
      "validation acc: 96.1261436636169\n",
      "LOSS train 7.091786715984345 valid 7.2793402671813965\n",
      "EPOCH2\n",
      "batch 1000 loss: 6.007185663938523\n",
      "distance: tensor([ 2.7449,  1.6928, -3.9537, -3.0894], device='cuda:0',\n",
      "       grad_fn=<SubBackward0>)\n",
      "batch1000 acc: 98.8\n",
      "tensor(6.5189, device='cuda:0', grad_fn=<SmoothL1LossBackward0>) tensor(0.0015, device='cuda:0', grad_fn=<NllLossBackward0>)\n",
      "batch 2000 loss: 5.922279857397079\n",
      "distance: tensor([18.6078,  2.2571,  4.0426, -1.0218], device='cuda:0',\n",
      "       grad_fn=<SubBackward0>)\n",
      "batch2000 acc: 98.728125\n",
      "tensor(5.8996, device='cuda:0', grad_fn=<SmoothL1LossBackward0>) tensor(0.0302, device='cuda:0', grad_fn=<NllLossBackward0>)\n"
     ]
    },
    {
     "name": "stderr",
     "output_type": "stream",
     "text": [
      "\r\n",
      " 40%|████      | 2/5 [15:23<23:03, 461.08s/it]"
     ]
    },
    {
     "name": "stdout",
     "output_type": "stream",
     "text": [
      "validation acc: 99.47440140159627\n",
      "LOSS train 5.922279857397079 valid 3.238645076751709\n",
      "EPOCH3\n",
      "batch 1000 loss: 5.5799112892150875\n",
      "distance: tensor([-0.5692,  1.8535, -0.0149, -3.7351], device='cuda:0',\n",
      "       grad_fn=<SubBackward0>)\n",
      "batch1000 acc: 99.0375\n",
      "tensor(3.8072, device='cuda:0', grad_fn=<SmoothL1LossBackward0>) tensor(8.1956e-08, device='cuda:0', grad_fn=<NllLossBackward0>)\n",
      "batch 2000 loss: 5.47603850364685\n",
      "distance: tensor([-9.1912, -2.1166, -4.3637,  1.0832], device='cuda:0',\n",
      "       grad_fn=<SubBackward0>)\n",
      "batch2000 acc: 99.071875\n",
      "tensor(6.0427, device='cuda:0', grad_fn=<SmoothL1LossBackward0>) tensor(1.4901e-08, device='cuda:0', grad_fn=<NllLossBackward0>)\n"
     ]
    },
    {
     "name": "stderr",
     "output_type": "stream",
     "text": [
      "\r\n",
      " 60%|██████    | 3/5 [23:02<15:20, 460.14s/it]"
     ]
    },
    {
     "name": "stdout",
     "output_type": "stream",
     "text": [
      "validation acc: 99.69826747128674\n",
      "LOSS train 5.47603850364685 valid 2.606903076171875\n",
      "EPOCH4\n"
     ]
    },
    {
     "name": "stderr",
     "output_type": "stream",
     "text": [
      " 60%|██████    | 3/5 [23:49<15:53, 476.52s/it]\n"
     ]
    },
    {
     "ename": "KeyboardInterrupt",
     "evalue": "",
     "output_type": "error",
     "traceback": [
      "\u001b[0;31m---------------------------------------------------------------------------\u001b[0m",
      "\u001b[0;31mKeyboardInterrupt\u001b[0m                         Traceback (most recent call last)",
      "Cell \u001b[0;32mIn[37], line 19\u001b[0m\n\u001b[1;32m     16\u001b[0m \u001b[38;5;66;03m#print(f\"model is Trained\")\u001b[39;00m\n\u001b[1;32m     17\u001b[0m \u001b[38;5;66;03m# try:\u001b[39;00m\n\u001b[1;32m     18\u001b[0m torch\u001b[38;5;241m.\u001b[39mcuda\u001b[38;5;241m.\u001b[39mempty_cache()\n\u001b[0;32m---> 19\u001b[0m avg_loss\u001b[38;5;241m=\u001b[39m\u001b[43mtrain_one_epoch\u001b[49m\u001b[43m(\u001b[49m\u001b[43mepoch_number\u001b[49m\u001b[43m,\u001b[49m\u001b[43mwriter\u001b[49m\u001b[43m,\u001b[49m\u001b[43m \u001b[49m\u001b[43mtotal_correct\u001b[49m\u001b[43m,\u001b[49m\u001b[43m \u001b[49m\u001b[43mtotal_samples\u001b[49m\u001b[43m)\u001b[49m\n\u001b[1;32m     20\u001b[0m torch\u001b[38;5;241m.\u001b[39mcuda\u001b[38;5;241m.\u001b[39mempty_cache()\n\u001b[1;32m     21\u001b[0m \u001b[38;5;66;03m#print(f\"everything works for avg_loss\")\u001b[39;00m\n",
      "Cell \u001b[0;32mIn[36], line 18\u001b[0m, in \u001b[0;36mtrain_one_epoch\u001b[0;34m(epoch_index, tb_writer, total_correct, total_samples)\u001b[0m\n\u001b[1;32m     16\u001b[0m class_outputs\u001b[38;5;241m=\u001b[39mtemperature\u001b[38;5;241m*\u001b[39mclass_outputs\n\u001b[1;32m     17\u001b[0m _,predictions\u001b[38;5;241m=\u001b[39mtorch\u001b[38;5;241m.\u001b[39mmax(class_outputs,\u001b[38;5;241m1\u001b[39m)\n\u001b[0;32m---> 18\u001b[0m total_correct\u001b[38;5;241m+\u001b[39m\u001b[38;5;241m=\u001b[39m\u001b[43m(\u001b[49m\u001b[43mpredictions\u001b[49m\u001b[38;5;241;43m==\u001b[39;49m\u001b[43mclass_targets\u001b[49m\u001b[43m)\u001b[49m\u001b[38;5;241;43m.\u001b[39;49m\u001b[43msum\u001b[49m\u001b[43m(\u001b[49m\u001b[43m)\u001b[49m\u001b[38;5;241;43m.\u001b[39;49m\u001b[43mitem\u001b[49m\u001b[43m(\u001b[49m\u001b[43m)\u001b[49m\n\u001b[1;32m     19\u001b[0m total_samples\u001b[38;5;241m+\u001b[39m\u001b[38;5;241m=\u001b[39mclass_targets\u001b[38;5;241m.\u001b[39msize(\u001b[38;5;241m0\u001b[39m)\n\u001b[1;32m     20\u001b[0m loss, bbox_loss, class_loss \u001b[38;5;241m=\u001b[39m custom_loss_fn(bbox_outputs, class_outputs, bbox_targets, class_targets)\n",
      "\u001b[0;31mKeyboardInterrupt\u001b[0m: "
     ]
    }
   ],
   "source": [
    "early_stopping=EarlyStopping()\n",
    "timestamp=datetime.now().strftime('%Y%m%d_%H%M%S')\n",
    "log_file='log_trains_1'\n",
    "#os.makedirs(log_file)\n",
    "writer=SummaryWriter(log_file.format(timestamp))\n",
    "epoch_number=0\n",
    "EPOCHS=5\n",
    "best_v_loss=1\n",
    "for epoch in tqdm(range(EPOCHS)):\n",
    "  total_correct=0\n",
    "  total_samples=0\n",
    "  total_v_correct=0\n",
    "  total_v_samples=0    \n",
    "  print('EPOCH{}'.format(epoch_number + 1))\n",
    "  module.train(True)\n",
    "  torch.cuda.empty_cache()\n",
    "  avg_loss=train_one_epoch(epoch_number,writer, total_correct, total_samples)\n",
    "  torch.cuda.empty_cache()\n",
    "  running_vloss=0\n",
    "  module.eval()\n",
    "  with torch.no_grad():\n",
    "      \n",
    "    for i,(vimages, vbbox, vclass) in enumerate(dataloader_test):\n",
    "      vinputs= vimages.to(\"cuda\")\n",
    "      vbbox_target=[b.to(\"cuda\") for b in vbbox]\n",
    "      vclass_targets=np.asarray(vclass)\n",
    "      vclass_target=torch.tensor(vclass_targets, dtype=torch.int64).to(\"cuda\")\n",
    "      voutputs_bbox, voutputs_class=module(vinputs)\n",
    "      _,v_predictions=torch.max(voutputs_class,1)\n",
    "      total_v_correct+=(v_predictions==vclass_target).sum().item()\n",
    "      total_v_samples+=vclass_target.size(0)\n",
    "      vloss, vbbox_loss, vclasse_loss =custom_loss_fn(voutputs_bbox, voutputs_class, vbbox_target, vclass_target)\n",
    "      running_vloss+=vloss\n",
    " \n",
    "  v_accuracy=100*total_v_correct/total_v_samples\n",
    "  print(f'validation acc: {v_accuracy}')\n",
    "  avg_vloss=running_vloss/(i+1)\n",
    "  print('LOSS train {} valid {}'.format(avg_loss, avg_vloss ))\n",
    "  writer.add_scalars('Training vs. Validation Loss',\n",
    "                    { 'Training' : avg_loss, 'Validation' : avg_vloss },\n",
    "                    epoch_number + 1)\n",
    "  writer.flush()\n",
    "  early_stopping(avg_vloss, module)\n",
    "    # Track best performance, and save the model's state\n",
    "  if avg_vloss < best_v_loss:\n",
    "      best_vloss = avg_vloss\n",
    "      model_path = 'model_{}_{}'.format(timestamp, epoch_number)\n",
    "      torch.save(module.state_dict(), model_path)\n",
    "\n",
    "  epoch_number += 1"
   ]
  },
  {
   "cell_type": "code",
   "execution_count": 45,
   "metadata": {},
   "outputs": [],
   "source": [
    "module.state_dict()\n",
    "torch.save(module.state_dict(), 'module_with_all_classes.pt')"
   ]
  },
  {
   "cell_type": "markdown",
   "metadata": {},
   "source": [
    "### The model performs pretty well"
   ]
  },
  {
   "cell_type": "code",
   "execution_count": 44,
   "metadata": {},
   "outputs": [
    {
     "name": "stderr",
     "output_type": "stream",
     "text": [
      "Clipping input data to the valid range for imshow with RGB data ([0..1] for floats or [0..255] for integers).\n"
     ]
    },
    {
     "name": "stdout",
     "output_type": "stream",
     "text": [
      "tensor([  2.0185,   0.8903, 303.3934, 303.5100], device='cuda:0') tensor([ 1.5964, -6.4396, -8.4500, 26.0095], device='cuda:0') tensor(3.)\n"
     ]
    },
    {
     "data": {
      "image/png": "[encoded data removed]",
      "text/plain": [
       "<Figure size 640x480 with 1 Axes>"
      ]
     },
     "metadata": {},
     "output_type": "display_data"
    }
   ],
   "source": [
    "with torch.no_grad():\n",
    "    for images, bb, cls in dataloader_test:\n",
    "        inputs=images.to(\"cuda\")\n",
    "        bbox_outputs, clas_outputs=module(inputs)\n",
    "        img=images[0].permute(1,2,0)\n",
    "        plt.imshow(img)\n",
    "        print(bbox_outputs[0], clas_outputs[0], cls[0])\n",
    "        break"
   ]
  }
 ],
 "metadata": {
  "accelerator": "GPU",
  "colab": {
   "gpuType": "T4",
   "provenance": []
  },
  "kernelspec": {
   "display_name": "Python 3 (ipykernel)",
   "language": "python",
   "name": "python3"
  },
  "language_info": {
   "codemirror_mode": {
    "name": "ipython",
    "version": 3
   },
   "file_extension": ".py",
   "mimetype": "text/x-python",
   "name": "python",
   "nbconvert_exporter": "python",
   "pygments_lexer": "ipython3",
   "version": "3.10.13"
  }
 },
 "nbformat": 4,
 "nbformat_minor": 1
}
